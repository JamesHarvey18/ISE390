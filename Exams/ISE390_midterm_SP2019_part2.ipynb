{
 "cells": [
  {
   "cell_type": "markdown",
   "metadata": {},
   "source": [
    "<h1><center>ISE390 Data science</center></h1>\n",
    "<h1><center>Midterm </center></h1>\n",
    "<h1><center>April 8th,2019 </center></h1>\n",
    "<h1><center>Part 2 </center></h1>"
   ]
  },
  {
   "cell_type": "markdown",
   "metadata": {},
   "source": [
    "1-  Download the file named data_set in the Assignment section on Blackboard and save it in a file. Then read the file as a DataFram into python and show the first 10 row of the data."
   ]
  },
  {
   "cell_type": "code",
   "execution_count": 2,
   "metadata": {},
   "outputs": [
    {
     "data": {
      "text/html": [
       "<div>\n",
       "<style scoped>\n",
       "    .dataframe tbody tr th:only-of-type {\n",
       "        vertical-align: middle;\n",
       "    }\n",
       "\n",
       "    .dataframe tbody tr th {\n",
       "        vertical-align: top;\n",
       "    }\n",
       "\n",
       "    .dataframe thead th {\n",
       "        text-align: right;\n",
       "    }\n",
       "</style>\n",
       "<table border=\"1\" class=\"dataframe\">\n",
       "  <thead>\n",
       "    <tr style=\"text-align: right;\">\n",
       "      <th></th>\n",
       "      <th>Dates</th>\n",
       "      <th>Category</th>\n",
       "      <th>Descript</th>\n",
       "      <th>PdDistrict</th>\n",
       "      <th>Address</th>\n",
       "      <th>X</th>\n",
       "      <th>Y</th>\n",
       "    </tr>\n",
       "  </thead>\n",
       "  <tbody>\n",
       "    <tr>\n",
       "      <th>0</th>\n",
       "      <td>2014-12-28 23:30:00</td>\n",
       "      <td>LARCENY/THEFT</td>\n",
       "      <td>GRAND THEFT PICKPOCKET</td>\n",
       "      <td>MISSION</td>\n",
       "      <td>4100 Block of 18TH ST</td>\n",
       "      <td>-122.435563</td>\n",
       "      <td>37.760801</td>\n",
       "    </tr>\n",
       "    <tr>\n",
       "      <th>1</th>\n",
       "      <td>2014-12-28 23:30:00</td>\n",
       "      <td>LARCENY/THEFT</td>\n",
       "      <td>GRAND THEFT FROM LOCKED AUTO</td>\n",
       "      <td>NaN</td>\n",
       "      <td>NaN</td>\n",
       "      <td>NaN</td>\n",
       "      <td>NaN</td>\n",
       "    </tr>\n",
       "    <tr>\n",
       "      <th>2</th>\n",
       "      <td>2014-12-28 23:30:00</td>\n",
       "      <td>VEHICLE THEFT</td>\n",
       "      <td>STOLEN AUTOMOBILE</td>\n",
       "      <td>CENTRAL</td>\n",
       "      <td>500 Block of GEARY ST</td>\n",
       "      <td>-122.412777</td>\n",
       "      <td>37.786834</td>\n",
       "    </tr>\n",
       "    <tr>\n",
       "      <th>3</th>\n",
       "      <td>2014-12-28 23:30:00</td>\n",
       "      <td>ASSAULT</td>\n",
       "      <td>AGGRAVATED ASSAULT WITH A DEADLY WEAPON</td>\n",
       "      <td>NORTHERN</td>\n",
       "      <td>0 Block of ROSE ST</td>\n",
       "      <td>-122.421702</td>\n",
       "      <td>37.773641</td>\n",
       "    </tr>\n",
       "    <tr>\n",
       "      <th>4</th>\n",
       "      <td>2014-12-28 23:30:00</td>\n",
       "      <td>ASSAULT</td>\n",
       "      <td>INFLICT INJURY ON COHABITEE</td>\n",
       "      <td>NORTHERN</td>\n",
       "      <td>0 Block of ROSE ST</td>\n",
       "      <td>-122.421702</td>\n",
       "      <td>37.773641</td>\n",
       "    </tr>\n",
       "    <tr>\n",
       "      <th>5</th>\n",
       "      <td>2014-12-28 23:30:00</td>\n",
       "      <td>ASSAULT</td>\n",
       "      <td>THREATS AGAINST LIFE</td>\n",
       "      <td>NaN</td>\n",
       "      <td>NaN</td>\n",
       "      <td>NaN</td>\n",
       "      <td>NaN</td>\n",
       "    </tr>\n",
       "    <tr>\n",
       "      <th>6</th>\n",
       "      <td>2014-12-28 23:30:00</td>\n",
       "      <td>WARRANTS</td>\n",
       "      <td>WARRANT ARREST</td>\n",
       "      <td>NORTHERN</td>\n",
       "      <td>0 Block of ROSE ST</td>\n",
       "      <td>-122.421702</td>\n",
       "      <td>37.773641</td>\n",
       "    </tr>\n",
       "    <tr>\n",
       "      <th>7</th>\n",
       "      <td>2014-12-28 23:30:00</td>\n",
       "      <td>ASSAULT</td>\n",
       "      <td>BATTERY, FORMER SPOUSE OR DATING RELATIONSHIP</td>\n",
       "      <td>NORTHERN</td>\n",
       "      <td>0 Block of ROSE ST</td>\n",
       "      <td>-122.421702</td>\n",
       "      <td>37.773641</td>\n",
       "    </tr>\n",
       "    <tr>\n",
       "      <th>8</th>\n",
       "      <td>2014-12-28 23:28:00</td>\n",
       "      <td>ASSAULT</td>\n",
       "      <td>BATTERY, FORMER SPOUSE OR DATING RELATIONSHIP</td>\n",
       "      <td>BAYVIEW</td>\n",
       "      <td>800 Block of JAMESTOWN AV</td>\n",
       "      <td>-122.391150</td>\n",
       "      <td>37.717223</td>\n",
       "    </tr>\n",
       "    <tr>\n",
       "      <th>9</th>\n",
       "      <td>2014-12-28 23:00:00</td>\n",
       "      <td>LARCENY/THEFT</td>\n",
       "      <td>GRAND THEFT FROM LOCKED AUTO</td>\n",
       "      <td>CENTRAL</td>\n",
       "      <td>POST ST / JONES ST</td>\n",
       "      <td>-122.413358</td>\n",
       "      <td>37.787664</td>\n",
       "    </tr>\n",
       "  </tbody>\n",
       "</table>\n",
       "</div>"
      ],
      "text/plain": [
       "                 Dates       Category  \\\n",
       "0  2014-12-28 23:30:00  LARCENY/THEFT   \n",
       "1  2014-12-28 23:30:00  LARCENY/THEFT   \n",
       "2  2014-12-28 23:30:00  VEHICLE THEFT   \n",
       "3  2014-12-28 23:30:00        ASSAULT   \n",
       "4  2014-12-28 23:30:00        ASSAULT   \n",
       "5  2014-12-28 23:30:00        ASSAULT   \n",
       "6  2014-12-28 23:30:00       WARRANTS   \n",
       "7  2014-12-28 23:30:00        ASSAULT   \n",
       "8  2014-12-28 23:28:00        ASSAULT   \n",
       "9  2014-12-28 23:00:00  LARCENY/THEFT   \n",
       "\n",
       "                                        Descript PdDistrict  \\\n",
       "0                         GRAND THEFT PICKPOCKET    MISSION   \n",
       "1                   GRAND THEFT FROM LOCKED AUTO        NaN   \n",
       "2                              STOLEN AUTOMOBILE    CENTRAL   \n",
       "3        AGGRAVATED ASSAULT WITH A DEADLY WEAPON   NORTHERN   \n",
       "4                    INFLICT INJURY ON COHABITEE   NORTHERN   \n",
       "5                           THREATS AGAINST LIFE        NaN   \n",
       "6                                 WARRANT ARREST   NORTHERN   \n",
       "7  BATTERY, FORMER SPOUSE OR DATING RELATIONSHIP   NORTHERN   \n",
       "8  BATTERY, FORMER SPOUSE OR DATING RELATIONSHIP    BAYVIEW   \n",
       "9                   GRAND THEFT FROM LOCKED AUTO    CENTRAL   \n",
       "\n",
       "                     Address           X          Y  \n",
       "0      4100 Block of 18TH ST -122.435563  37.760801  \n",
       "1                        NaN         NaN        NaN  \n",
       "2      500 Block of GEARY ST -122.412777  37.786834  \n",
       "3         0 Block of ROSE ST -122.421702  37.773641  \n",
       "4         0 Block of ROSE ST -122.421702  37.773641  \n",
       "5                        NaN         NaN        NaN  \n",
       "6         0 Block of ROSE ST -122.421702  37.773641  \n",
       "7         0 Block of ROSE ST -122.421702  37.773641  \n",
       "8  800 Block of JAMESTOWN AV -122.391150  37.717223  \n",
       "9         POST ST / JONES ST -122.413358  37.787664  "
      ]
     },
     "execution_count": 2,
     "metadata": {},
     "output_type": "execute_result"
    }
   ],
   "source": [
    "import pandas as pd\n",
    "import numpy as np\n",
    "import matplotlib.pyplot as plt\n",
    "filepath = \"/Users/James/documents/SBU/ISE 390 Data Science/data/data_set.csv\"\n",
    "df = pd.read_csv(filepath)\n",
    "\n",
    "df.head(10)"
   ]
  },
  {
   "cell_type": "markdown",
   "metadata": {},
   "source": [
    "2- What is the shape of the data, i.e., the number of columns and rows?\n",
    "\n"
   ]
  },
  {
   "cell_type": "code",
   "execution_count": 3,
   "metadata": {},
   "outputs": [
    {
     "data": {
      "text/plain": [
       "(74760, 7)"
      ]
     },
     "execution_count": 3,
     "metadata": {},
     "output_type": "execute_result"
    }
   ],
   "source": [
    "df.shape\n",
    "\n",
    "# There are 74760 rows and 7 columns.\n"
   ]
  },
  {
   "cell_type": "markdown",
   "metadata": {},
   "source": [
    "3- Are there any missing value in the data? if yes how many per column? write a python script to print the number of missing values per column."
   ]
  },
  {
   "cell_type": "code",
   "execution_count": 4,
   "metadata": {},
   "outputs": [
    {
     "name": "stdout",
     "output_type": "stream",
     "text": [
      "Dates         3600\n",
      "Category         0\n",
      "Descript         0\n",
      "PdDistrict    3600\n",
      "Address       3600\n",
      "X             3600\n",
      "Y             3600\n",
      "dtype: int64\n"
     ]
    }
   ],
   "source": [
    "print(df.isnull().sum()) # missing values per column"
   ]
  },
  {
   "cell_type": "markdown",
   "metadata": {},
   "source": [
    "4- Remove all rows in which at least there is one missing values. Name the new Dataframe as CleanData in which there is no missing values."
   ]
  },
  {
   "cell_type": "code",
   "execution_count": 5,
   "metadata": {},
   "outputs": [],
   "source": [
    "CleanData = df.dropna()"
   ]
  },
  {
   "cell_type": "markdown",
   "metadata": {},
   "source": [
    "5- Make a scatter plot showing the distribution of data in column 6 and 7, i.e X and Y"
   ]
  },
  {
   "cell_type": "code",
   "execution_count": 6,
   "metadata": {},
   "outputs": [
    {
     "data": {
      "image/png": "[encoded data removed]",
      "text/plain": [
       "<Figure size 432x288 with 1 Axes>"
      ]
     },
     "metadata": {},
     "output_type": "display_data"
    }
   ],
   "source": [
    "x = CleanData.iloc[:,5]\n",
    "y = CleanData.iloc[:,6]\n",
    "plt.scatter(x, y, color=\"red\", edgecolors=\"black\")\n",
    "plt.show()"
   ]
  },
  {
   "cell_type": "markdown",
   "metadata": {},
   "source": [
    "6- From CleanData, create a Series whose index  and data are the first and\n",
    "seventh columns of CleanData, respectively."
   ]
  },
  {
   "cell_type": "code",
   "execution_count": 7,
   "metadata": {},
   "outputs": [],
   "source": [
    "indices = CleanData.iloc[:, 0]\n",
    "data = np.array(CleanData.iloc[:, 6])\n",
    "\n",
    "\n",
    "s = pd.Series(data, index=indices)"
   ]
  },
  {
   "cell_type": "markdown",
   "metadata": {},
   "source": [
    "7- Plot the 100 first values of series"
   ]
  },
  {
   "cell_type": "code",
   "execution_count": 9,
   "metadata": {},
   "outputs": [
    {
     "data": {
      "image/png": "[encoded data removed]",
      "text/plain": [
       "<Figure size 432x288 with 1 Axes>"
      ]
     },
     "metadata": {},
     "output_type": "display_data"
    }
   ],
   "source": [
    "Series100 = s[0:100]\n",
    "\n",
    "Series100.plot()\n",
    "plt.show()"
   ]
  },
  {
   "cell_type": "markdown",
   "metadata": {},
   "source": [
    "8- Generate a pivot table in which we make a summary in terms of both Category and PdDistrict"
   ]
  },
  {
   "cell_type": "code",
   "execution_count": 12,
   "metadata": {},
   "outputs": [
    {
     "name": "stdout",
     "output_type": "stream",
     "text": [
      "                                   X          Y\n",
      "Category      PdDistrict                       \n",
      "ARSON         BAYVIEW    -122.389081  37.735727\n",
      "              CENTRAL    -122.408073  37.793609\n",
      "              INGLESIDE  -122.429165  37.725145\n",
      "              MISSION    -122.424681  37.759388\n",
      "              NORTHERN   -122.430272  37.789104\n",
      "              PARK       -122.447397  37.768208\n",
      "              RICHMOND   -122.464903  37.782513\n",
      "              SOUTHERN   -122.408208  37.780667\n",
      "              TARAVAL    -122.475901  37.736729\n",
      "              TENDERLOIN -122.409963  37.785383\n",
      "ASSAULT       BAYVIEW    -122.391755  37.733966\n",
      "              CENTRAL    -122.409914  37.795264\n",
      "              INGLESIDE  -122.427443  37.724079\n",
      "              MISSION    -122.419514  37.759889\n",
      "              NORTHERN   -122.425971  37.785263\n",
      "              PARK       -122.445479  37.770348\n",
      "              RICHMOND   -122.472801  37.780168\n",
      "              SOUTHERN   -122.405818  37.779800\n",
      "              TARAVAL    -122.474808  37.733458\n",
      "              TENDERLOIN -122.412809  37.783597\n",
      "BAD CHECKS    BAYVIEW    -122.389864  37.737586\n",
      "              CENTRAL    -122.404878  37.789866\n",
      "              MISSION    -122.429377  37.764007\n",
      "              NORTHERN   -122.420720  37.785101\n",
      "              SOUTHERN   -122.410334  37.779960\n",
      "BRIBERY       BAYVIEW    -122.389389  37.739033\n",
      "              INGLESIDE  -122.430863  37.722665\n",
      "              MISSION    -122.415797  37.761283\n",
      "              NORTHERN   -122.443520  37.798999\n",
      "              SOUTHERN   -122.406533  37.780718\n",
      "...                              ...        ...\n",
      "VEHICLE THEFT BAYVIEW    -122.395835  37.737286\n",
      "              CENTRAL    -122.411690  37.795900\n",
      "              INGLESIDE  -122.427217  37.728581\n",
      "              MISSION    -122.420795  37.758187\n",
      "              NORTHERN   -122.428320  37.788043\n",
      "              PARK       -122.444806  37.768681\n",
      "              RICHMOND   -122.467957  37.780785\n",
      "              SOUTHERN   -122.404024  37.779796\n",
      "              TARAVAL    -122.478530  37.739533\n",
      "              TENDERLOIN -122.411968  37.784487\n",
      "WARRANTS      BAYVIEW    -122.391847  37.737289\n",
      "              CENTRAL    -122.409878  37.794207\n",
      "              INGLESIDE  -122.428779  37.726561\n",
      "              MISSION    -122.418898  37.761421\n",
      "              NORTHERN   -122.424773  37.785735\n",
      "              PARK       -122.447250  37.770583\n",
      "              RICHMOND   -122.471708  37.778664\n",
      "              SOUTHERN   -122.407766  37.778933\n",
      "              TARAVAL    -122.477082  37.737597\n",
      "              TENDERLOIN -122.412491  37.783434\n",
      "WEAPON LAWS   BAYVIEW    -122.390063  37.733960\n",
      "              CENTRAL    -122.409619  37.794667\n",
      "              INGLESIDE  -122.426975  37.724415\n",
      "              MISSION    -122.417539  37.758898\n",
      "              NORTHERN   -122.425330  37.783663\n",
      "              PARK       -122.445221  37.774225\n",
      "              RICHMOND   -122.468016  37.778315\n",
      "              SOUTHERN   -122.407074  37.779442\n",
      "              TARAVAL    -122.475003  37.734505\n",
      "              TENDERLOIN -122.412584  37.782933\n",
      "\n",
      "[327 rows x 2 columns]\n"
     ]
    }
   ],
   "source": [
    "table = pd.pivot_table(CleanData, index=['Category', 'PdDistrict'])\n",
    "print(table)"
   ]
  },
  {
   "cell_type": "markdown",
   "metadata": {
    "collapsed": true
   },
   "source": [
    "9- Calculate the correlation between X and Y coordinates? "
   ]
  },
  {
   "cell_type": "code",
   "execution_count": 14,
   "metadata": {},
   "outputs": [
    {
     "name": "stdout",
     "output_type": "stream",
     "text": [
      "[-3.13141613e+08]\n"
     ]
    }
   ],
   "source": [
    "Correlation = np.correlate(x, y)\n",
    "print(Correlation)"
   ]
  },
  {
   "cell_type": "markdown",
   "metadata": {},
   "source": [
    "10- Calculate the eigenvalues and eigenvectors of the matrix A geiven\n",
    "by A= [X Y]"
   ]
  },
  {
   "cell_type": "code",
   "execution_count": null,
   "metadata": {},
   "outputs": [],
   "source": [
    "from numpy import linalg as LA \n",
    "# A = np.matrix([[x],[y]])\n",
    "#x = np.diag((x))\n",
    "#y = np.diag((y))\n",
    "#A = np.array([[x], [y]])\n",
    "x = np.column_stack(x)\n",
    "y = np.column_stack(y)\n",
    "A = np.matrix(x, y)\n",
    "print(A)\n",
    "# w, v = LA.eig(np.array([[1, -1], [1, 1]]))\n",
    "\n",
    "# the error i am getting is implying that the matrix is not the proper shape to calculate the eigenvalues and vectors of the matrix."
   ]
  },
  {
   "cell_type": "code",
   "execution_count": null,
   "metadata": {},
   "outputs": [],
   "source": []
  },
  {
   "cell_type": "code",
   "execution_count": null,
   "metadata": {},
   "outputs": [],
   "source": []
  },
  {
   "cell_type": "code",
   "execution_count": null,
   "metadata": {},
   "outputs": [],
   "source": []
  }
 ],
 "metadata": {
  "kernelspec": {
   "display_name": "Python 3",
   "language": "python",
   "name": "python3"
  },
  "language_info": {
   "codemirror_mode": {
    "name": "ipython",
    "version": 3
   },
   "file_extension": ".py",
   "mimetype": "text/x-python",
   "name": "python",
   "nbconvert_exporter": "python",
   "pygments_lexer": "ipython3",
   "version": "3.6.5"
  }
 },
 "nbformat": 4,
 "nbformat_minor": 2
}
