{
 "cells": [
  {
   "cell_type": "markdown",
   "metadata": {},
   "source": [
    "## ISE390 SP 2019 Data Science\n",
    "### Quiz 2\n",
    "\n",
    "1. Read the Titanic data\n",
    "2. Compute the correlation between the age and fare of the passengers\n",
    "3. Show the scatter plot, the age vs the fare\n",
    "4. Do you think the age and fair are correlated , dependent?\n",
    "5. Compute the mean and median and mode of  ticket fare\n",
    "6. How many male and female passengers were in Titanic\n",
    "7. Determine if there is any outliers in the ticket fair\n",
    "8. Compute the Euclidean distant between age and the ticket fair\n"
   ]
  },
  {
   "cell_type": "code",
   "execution_count": 53,
   "metadata": {},
   "outputs": [
    {
     "name": "stdout",
     "output_type": "stream",
     "text": [
      "[[ 1.         -0.09242386]\n",
      " [-0.09242386  1.        ]]\n",
      "[493581.445]\n",
      "Mean ticket price:  78.68246885245901\n",
      "Median ticket price:  57.0\n",
      "male      95\n",
      "female    88\n",
      "Name: Sex, dtype: int64\n",
      "Euclidean distance:  1218.2334765694548\n"
     ]
    },
    {
     "data": {
      "image/png": "[encoded data removed]",
      "text/plain": [
       "<Figure size 432x288 with 1 Axes>"
      ]
     },
     "metadata": {},
     "output_type": "display_data"
    }
   ],
   "source": [
    "import numpy as np\n",
    "import pandas as pd\n",
    "import matplotlib.pyplot as plt\n",
    "\n",
    "filepath = '/Users/James/Documents/SBU/ISE 390 Data Science/data/titanic_train.csv'\n",
    "passengers = pd.read_csv(filepath)\n",
    "passengers = passengers.dropna(axis = 'rows', how='any')\n",
    "corr = np.corrcoef(passengers[\"Age\"], passengers[\"Fare\"])\n",
    "corr2 = np.correlate(passengers[\"Age\"], passengers[\"Fare\"])\n",
    "print(corr)\n",
    "print(corr2)\n",
    "plt.scatter(passengers[\"Age\"], passengers[\"Fare\"])\n",
    "print('Mean ticket price: ', np.mean(passengers[\"Fare\"]))\n",
    "print('Median ticket price: ', np.median(passengers[\"Fare\"]))\n",
    "print(passengers['Sex'].value_counts())\n",
    "dist = np.linalg.norm(passengers[\"Age\"] - passengers[\"Fare\"])\n",
    "print('Euclidean distance: ',dist)"
   ]
  },
  {
   "cell_type": "markdown",
   "metadata": {},
   "source": [
    "4. The age and fare seem to be somewhat normally distributed. This means that while they are not correlated in a linear way, they are not independent either. They do have some level of dependence. \n",
    "\n",
    "7. You can see that there are some outliers on the high end of the fare range simply by looking at the scatter plot in the center of the data."
   ]
  }
 ],
 "metadata": {
  "kernelspec": {
   "display_name": "Python 3",
   "language": "python",
   "name": "python3"
  },
  "language_info": {
   "codemirror_mode": {
    "name": "ipython",
    "version": 3
   },
   "file_extension": ".py",
   "mimetype": "text/x-python",
   "name": "python",
   "nbconvert_exporter": "python",
   "pygments_lexer": "ipython3",
   "version": "3.6.5"
  }
 },
 "nbformat": 4,
 "nbformat_minor": 2
}
