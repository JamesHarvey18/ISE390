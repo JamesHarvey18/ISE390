{
 "cells": [
  {
   "cell_type": "markdown",
   "metadata": {},
   "source": [
    " $x = [1\\,\\, 2 \\,\\,3]^T$ and $y=[ 4 \\,\\,5 \\,\\,6]^T$. Also assume:\n",
    "\n",
    "$S=\\begin{bmatrix}\n",
    "    2& 1&4  \\\\\n",
    "    5& -1&3  \\\\\n",
    "    1& 7&2  \\\\\n",
    "\\end{bmatrix}$\n",
    "\n",
    "$A=\\begin{bmatrix}\n",
    "    0.4& .1&0.14  \\\\\n",
    "    12.4& -0.01&0.3  \\\\\n",
    "    1.6& 7.5& 0.2  \\\\\n",
    "\\end{bmatrix}$\n",
    "\n",
    "Using Python NumPy libraries compute the following expression:\n",
    "\n",
    "$ \\{y^T \\times (x\\otimes y) \\times A \\times  \\text{diag}(S^{-1})\\times I \\times y\\} $"
   ]
  },
  {
   "cell_type": "code",
   "execution_count": null,
   "metadata": {
    "collapsed": true
   },
   "outputs": [],
   "source": [
    "Answer"
   ]
  },
  {
   "cell_type": "code",
   "execution_count": 6,
   "metadata": {},
   "outputs": [
    {
     "name": "stdout",
     "output_type": "stream",
     "text": [
      "(3, 1)\n",
      "(1, 3)\n",
      "[[-2416.28835165]]\n"
     ]
    }
   ],
   "source": [
    "import numpy as np\n",
    "\n",
    "xT = np.matrix([1, 2, 3])\n",
    "yT = np.matrix([4, 5, 6])\n",
    "x = xT.T\n",
    "y = yT.T\n",
    "print(y.shape)\n",
    "print(yT.shape)\n",
    "S = np.matrix([[2, 1, 4], [5, -1, 3], [1, 7, 2]])\n",
    "A = np.matrix([[0.4, .1, 0.14], [12.4, -0.01, 0.3], [1.6, 7.5, 0.2]])\n",
    "\n",
    "diagS = np.diag(np.diag(np.linalg.inv(S)))\n",
    "answer = np.dot(np.dot(np.dot(np.dot(np.dot(yT, np.outer(x, y)), A), diagS), np.identity(3)), y)\n",
    "print(answer)\n"
   ]
  },
  {
   "cell_type": "code",
   "execution_count": null,
   "metadata": {},
   "outputs": [],
   "source": []
  }
 ],
 "metadata": {
  "kernelspec": {
   "display_name": "Python 3",
   "language": "python",
   "name": "python3"
  },
  "language_info": {
   "codemirror_mode": {
    "name": "ipython",
    "version": 3
   },
   "file_extension": ".py",
   "mimetype": "text/x-python",
   "name": "python",
   "nbconvert_exporter": "python",
   "pygments_lexer": "ipython3",
   "version": "3.6.5"
  }
 },
 "nbformat": 4,
 "nbformat_minor": 2
}
